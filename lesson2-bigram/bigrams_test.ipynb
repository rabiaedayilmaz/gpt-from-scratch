{
  "nbformat": 4,
  "nbformat_minor": 0,
  "metadata": {
    "colab": {
      "provenance": []
    },
    "kernelspec": {
      "name": "python3",
      "display_name": "Python 3"
    },
    "language_info": {
      "name": "python"
    }
  },
  "cells": [
    {
      "cell_type": "code",
      "execution_count": 1,
      "metadata": {
        "colab": {
          "base_uri": "https://localhost:8080/"
        },
        "id": "pvDzA5P-4SSk",
        "outputId": "0d8099a4-f648-460f-faa0-da8c8fec4c1f"
      },
      "outputs": [
        {
          "output_type": "stream",
          "name": "stdout",
          "text": [
            "--2023-02-03 10:17:03--  https://raw.githubusercontent.com/karpathy/makemore/master/names.txt\n",
            "Resolving raw.githubusercontent.com (raw.githubusercontent.com)... 185.199.108.133, 185.199.109.133, 185.199.110.133, ...\n",
            "Connecting to raw.githubusercontent.com (raw.githubusercontent.com)|185.199.108.133|:443... connected.\n",
            "HTTP request sent, awaiting response... 200 OK\n",
            "Length: 228145 (223K) [text/plain]\n",
            "Saving to: ‘names.txt’\n",
            "\n",
            "names.txt           100%[===================>] 222.80K  --.-KB/s    in 0.03s   \n",
            "\n",
            "2023-02-03 10:17:03 (8.18 MB/s) - ‘names.txt’ saved [228145/228145]\n",
            "\n"
          ]
        }
      ],
      "source": [
        "# get the data\n",
        "!wget https://raw.githubusercontent.com/karpathy/makemore/master/names.txt"
      ]
    },
    {
      "cell_type": "code",
      "source": [
        "words = open(\"/content/names.txt\").read().splitlines()\n",
        "words[:5]"
      ],
      "metadata": {
        "colab": {
          "base_uri": "https://localhost:8080/"
        },
        "id": "umN_tIzE48y5",
        "outputId": "167020a9-ab29-4b1b-cd46-85825683b8ef"
      },
      "execution_count": 2,
      "outputs": [
        {
          "output_type": "execute_result",
          "data": {
            "text/plain": [
              "['emma', 'olivia', 'ava', 'isabella', 'sophia']"
            ]
          },
          "metadata": {},
          "execution_count": 2
        }
      ]
    },
    {
      "cell_type": "code",
      "source": [
        "len(words), min(len(w) for w in words), max(len(w) for w in words)"
      ],
      "metadata": {
        "colab": {
          "base_uri": "https://localhost:8080/"
        },
        "id": "iq7EHdHC5UMa",
        "outputId": "f7994e37-0499-48ba-a3e6-c3b3959be66b"
      },
      "execution_count": 3,
      "outputs": [
        {
          "output_type": "execute_result",
          "data": {
            "text/plain": [
              "(32033, 2, 15)"
            ]
          },
          "metadata": {},
          "execution_count": 3
        }
      ]
    },
    {
      "cell_type": "code",
      "source": [
        "b = {}\n",
        "\n",
        "for w in words:\n",
        "  chs = [\"<S>\"] + list(w) + [\"<E>\"]\n",
        "  for ch1, ch2 in zip(chs, chs[1:]):\n",
        "    bigram = (ch1, ch2)\n",
        "    b[bigram] = b.get(bigram, 0) + 1"
      ],
      "metadata": {
        "id": "dXb4GZ4b5lMy"
      },
      "execution_count": 4,
      "outputs": []
    },
    {
      "cell_type": "code",
      "source": [
        "sorted(b.items(), key=lambda kv: -kv[1])"
      ],
      "metadata": {
        "colab": {
          "base_uri": "https://localhost:8080/"
        },
        "id": "Qlj4mdMq6fb-",
        "outputId": "edd5504d-b22d-430a-b5ca-8dacac50ae93"
      },
      "execution_count": 5,
      "outputs": [
        {
          "output_type": "execute_result",
          "data": {
            "text/plain": [
              "[(('n', '<E>'), 6763),\n",
              " (('a', '<E>'), 6640),\n",
              " (('a', 'n'), 5438),\n",
              " (('<S>', 'a'), 4410),\n",
              " (('e', '<E>'), 3983),\n",
              " (('a', 'r'), 3264),\n",
              " (('e', 'l'), 3248),\n",
              " (('r', 'i'), 3033),\n",
              " (('n', 'a'), 2977),\n",
              " (('<S>', 'k'), 2963),\n",
              " (('l', 'e'), 2921),\n",
              " (('e', 'n'), 2675),\n",
              " (('l', 'a'), 2623),\n",
              " (('m', 'a'), 2590),\n",
              " (('<S>', 'm'), 2538),\n",
              " (('a', 'l'), 2528),\n",
              " (('i', '<E>'), 2489),\n",
              " (('l', 'i'), 2480),\n",
              " (('i', 'a'), 2445),\n",
              " (('<S>', 'j'), 2422),\n",
              " (('o', 'n'), 2411),\n",
              " (('h', '<E>'), 2409),\n",
              " (('r', 'a'), 2356),\n",
              " (('a', 'h'), 2332),\n",
              " (('h', 'a'), 2244),\n",
              " (('y', 'a'), 2143),\n",
              " (('i', 'n'), 2126),\n",
              " (('<S>', 's'), 2055),\n",
              " (('a', 'y'), 2050),\n",
              " (('y', '<E>'), 2007),\n",
              " (('e', 'r'), 1958),\n",
              " (('n', 'n'), 1906),\n",
              " (('y', 'n'), 1826),\n",
              " (('k', 'a'), 1731),\n",
              " (('n', 'i'), 1725),\n",
              " (('r', 'e'), 1697),\n",
              " (('<S>', 'd'), 1690),\n",
              " (('i', 'e'), 1653),\n",
              " (('a', 'i'), 1650),\n",
              " (('<S>', 'r'), 1639),\n",
              " (('a', 'm'), 1634),\n",
              " (('l', 'y'), 1588),\n",
              " (('<S>', 'l'), 1572),\n",
              " (('<S>', 'c'), 1542),\n",
              " (('<S>', 'e'), 1531),\n",
              " (('j', 'a'), 1473),\n",
              " (('r', '<E>'), 1377),\n",
              " (('n', 'e'), 1359),\n",
              " (('l', 'l'), 1345),\n",
              " (('i', 'l'), 1345),\n",
              " (('i', 's'), 1316),\n",
              " (('l', '<E>'), 1314),\n",
              " (('<S>', 't'), 1308),\n",
              " (('<S>', 'b'), 1306),\n",
              " (('d', 'a'), 1303),\n",
              " (('s', 'h'), 1285),\n",
              " (('d', 'e'), 1283),\n",
              " (('e', 'e'), 1271),\n",
              " (('m', 'i'), 1256),\n",
              " (('s', 'a'), 1201),\n",
              " (('s', '<E>'), 1169),\n",
              " (('<S>', 'n'), 1146),\n",
              " (('a', 's'), 1118),\n",
              " (('y', 'l'), 1104),\n",
              " (('e', 'y'), 1070),\n",
              " (('o', 'r'), 1059),\n",
              " (('a', 'd'), 1042),\n",
              " (('t', 'a'), 1027),\n",
              " (('<S>', 'z'), 929),\n",
              " (('v', 'i'), 911),\n",
              " (('k', 'e'), 895),\n",
              " (('s', 'e'), 884),\n",
              " (('<S>', 'h'), 874),\n",
              " (('r', 'o'), 869),\n",
              " (('e', 's'), 861),\n",
              " (('z', 'a'), 860),\n",
              " (('o', '<E>'), 855),\n",
              " (('i', 'r'), 849),\n",
              " (('b', 'r'), 842),\n",
              " (('a', 'v'), 834),\n",
              " (('m', 'e'), 818),\n",
              " (('e', 'i'), 818),\n",
              " (('c', 'a'), 815),\n",
              " (('i', 'y'), 779),\n",
              " (('r', 'y'), 773),\n",
              " (('e', 'm'), 769),\n",
              " (('s', 't'), 765),\n",
              " (('h', 'i'), 729),\n",
              " (('t', 'e'), 716),\n",
              " (('n', 'd'), 704),\n",
              " (('l', 'o'), 692),\n",
              " (('a', 'e'), 692),\n",
              " (('a', 't'), 687),\n",
              " (('s', 'i'), 684),\n",
              " (('e', 'a'), 679),\n",
              " (('d', 'i'), 674),\n",
              " (('h', 'e'), 674),\n",
              " (('<S>', 'g'), 669),\n",
              " (('t', 'o'), 667),\n",
              " (('c', 'h'), 664),\n",
              " (('b', 'e'), 655),\n",
              " (('t', 'h'), 647),\n",
              " (('v', 'a'), 642),\n",
              " (('o', 'l'), 619),\n",
              " (('<S>', 'i'), 591),\n",
              " (('i', 'o'), 588),\n",
              " (('e', 't'), 580),\n",
              " (('v', 'e'), 568),\n",
              " (('a', 'k'), 568),\n",
              " (('a', 'a'), 556),\n",
              " (('c', 'e'), 551),\n",
              " (('a', 'b'), 541),\n",
              " (('i', 't'), 541),\n",
              " (('<S>', 'y'), 535),\n",
              " (('t', 'i'), 532),\n",
              " (('s', 'o'), 531),\n",
              " (('m', '<E>'), 516),\n",
              " (('d', '<E>'), 516),\n",
              " (('<S>', 'p'), 515),\n",
              " (('i', 'c'), 509),\n",
              " (('k', 'i'), 509),\n",
              " (('o', 's'), 504),\n",
              " (('n', 'o'), 496),\n",
              " (('t', '<E>'), 483),\n",
              " (('j', 'o'), 479),\n",
              " (('u', 's'), 474),\n",
              " (('a', 'c'), 470),\n",
              " (('n', 'y'), 465),\n",
              " (('e', 'v'), 463),\n",
              " (('s', 's'), 461),\n",
              " (('m', 'o'), 452),\n",
              " (('i', 'k'), 445),\n",
              " (('n', 't'), 443),\n",
              " (('i', 'd'), 440),\n",
              " (('j', 'e'), 440),\n",
              " (('a', 'z'), 435),\n",
              " (('i', 'g'), 428),\n",
              " (('i', 'm'), 427),\n",
              " (('r', 'r'), 425),\n",
              " (('d', 'r'), 424),\n",
              " (('<S>', 'f'), 417),\n",
              " (('u', 'r'), 414),\n",
              " (('r', 'l'), 413),\n",
              " (('y', 's'), 401),\n",
              " (('<S>', 'o'), 394),\n",
              " (('e', 'd'), 384),\n",
              " (('a', 'u'), 381),\n",
              " (('c', 'o'), 380),\n",
              " (('k', 'y'), 379),\n",
              " (('d', 'o'), 378),\n",
              " (('<S>', 'v'), 376),\n",
              " (('t', 't'), 374),\n",
              " (('z', 'e'), 373),\n",
              " (('z', 'i'), 364),\n",
              " (('k', '<E>'), 363),\n",
              " (('g', 'h'), 360),\n",
              " (('t', 'r'), 352),\n",
              " (('k', 'o'), 344),\n",
              " (('t', 'y'), 341),\n",
              " (('g', 'e'), 334),\n",
              " (('g', 'a'), 330),\n",
              " (('l', 'u'), 324),\n",
              " (('b', 'a'), 321),\n",
              " (('d', 'y'), 317),\n",
              " (('c', 'k'), 316),\n",
              " (('<S>', 'w'), 307),\n",
              " (('k', 'h'), 307),\n",
              " (('u', 'l'), 301),\n",
              " (('y', 'e'), 301),\n",
              " (('y', 'r'), 291),\n",
              " (('m', 'y'), 287),\n",
              " (('h', 'o'), 287),\n",
              " (('w', 'a'), 280),\n",
              " (('s', 'l'), 279),\n",
              " (('n', 's'), 278),\n",
              " (('i', 'z'), 277),\n",
              " (('u', 'n'), 275),\n",
              " (('o', 'u'), 275),\n",
              " (('n', 'g'), 273),\n",
              " (('y', 'd'), 272),\n",
              " (('c', 'i'), 271),\n",
              " (('y', 'o'), 271),\n",
              " (('i', 'v'), 269),\n",
              " (('e', 'o'), 269),\n",
              " (('o', 'm'), 261),\n",
              " (('r', 'u'), 252),\n",
              " (('f', 'a'), 242),\n",
              " (('b', 'i'), 217),\n",
              " (('s', 'y'), 215),\n",
              " (('n', 'c'), 213),\n",
              " (('h', 'y'), 213),\n",
              " (('p', 'a'), 209),\n",
              " (('r', 't'), 208),\n",
              " (('q', 'u'), 206),\n",
              " (('p', 'h'), 204),\n",
              " (('h', 'r'), 204),\n",
              " (('j', 'u'), 202),\n",
              " (('g', 'r'), 201),\n",
              " (('p', 'e'), 197),\n",
              " (('n', 'l'), 195),\n",
              " (('y', 'i'), 192),\n",
              " (('g', 'i'), 190),\n",
              " (('o', 'd'), 190),\n",
              " (('r', 's'), 190),\n",
              " (('r', 'd'), 187),\n",
              " (('h', 'l'), 185),\n",
              " (('s', 'u'), 185),\n",
              " (('a', 'x'), 182),\n",
              " (('e', 'z'), 181),\n",
              " (('e', 'k'), 178),\n",
              " (('o', 'v'), 176),\n",
              " (('a', 'j'), 175),\n",
              " (('o', 'h'), 171),\n",
              " (('u', 'e'), 169),\n",
              " (('m', 'm'), 168),\n",
              " (('a', 'g'), 168),\n",
              " (('h', 'u'), 166),\n",
              " (('x', '<E>'), 164),\n",
              " (('u', 'a'), 163),\n",
              " (('r', 'm'), 162),\n",
              " (('a', 'w'), 161),\n",
              " (('f', 'i'), 160),\n",
              " (('z', '<E>'), 160),\n",
              " (('u', '<E>'), 155),\n",
              " (('u', 'm'), 154),\n",
              " (('e', 'c'), 153),\n",
              " (('v', 'o'), 153),\n",
              " (('e', 'h'), 152),\n",
              " (('p', 'r'), 151),\n",
              " (('d', 'd'), 149),\n",
              " (('o', 'a'), 149),\n",
              " (('w', 'e'), 149),\n",
              " (('w', 'i'), 148),\n",
              " (('y', 'm'), 148),\n",
              " (('z', 'y'), 147),\n",
              " (('n', 'z'), 145),\n",
              " (('y', 'u'), 141),\n",
              " (('r', 'n'), 140),\n",
              " (('o', 'b'), 140),\n",
              " (('k', 'l'), 139),\n",
              " (('m', 'u'), 139),\n",
              " (('l', 'd'), 138),\n",
              " (('h', 'n'), 138),\n",
              " (('u', 'd'), 136),\n",
              " (('<S>', 'x'), 134),\n",
              " (('t', 'l'), 134),\n",
              " (('a', 'f'), 134),\n",
              " (('o', 'e'), 132),\n",
              " (('e', 'x'), 132),\n",
              " (('e', 'g'), 125),\n",
              " (('f', 'e'), 123),\n",
              " (('z', 'l'), 123),\n",
              " (('u', 'i'), 121),\n",
              " (('v', 'y'), 121),\n",
              " (('e', 'b'), 121),\n",
              " (('r', 'h'), 121),\n",
              " (('j', 'i'), 119),\n",
              " (('o', 't'), 118),\n",
              " (('d', 'h'), 118),\n",
              " (('h', 'm'), 117),\n",
              " (('c', 'l'), 116),\n",
              " (('o', 'o'), 115),\n",
              " (('y', 'c'), 115),\n",
              " (('o', 'w'), 114),\n",
              " (('o', 'c'), 114),\n",
              " (('f', 'r'), 114),\n",
              " (('b', '<E>'), 114),\n",
              " (('m', 'b'), 112),\n",
              " (('z', 'o'), 110),\n",
              " (('i', 'b'), 110),\n",
              " (('i', 'u'), 109),\n",
              " (('k', 'r'), 109),\n",
              " (('g', '<E>'), 108),\n",
              " (('y', 'v'), 106),\n",
              " (('t', 'z'), 105),\n",
              " (('b', 'o'), 105),\n",
              " (('c', 'y'), 104),\n",
              " (('y', 't'), 104),\n",
              " (('u', 'b'), 103),\n",
              " (('u', 'c'), 103),\n",
              " (('x', 'a'), 103),\n",
              " (('b', 'l'), 103),\n",
              " (('o', 'y'), 103),\n",
              " (('x', 'i'), 102),\n",
              " (('i', 'f'), 101),\n",
              " (('r', 'c'), 99),\n",
              " (('c', '<E>'), 97),\n",
              " (('m', 'r'), 97),\n",
              " (('n', 'u'), 96),\n",
              " (('o', 'p'), 95),\n",
              " (('i', 'h'), 95),\n",
              " (('k', 's'), 95),\n",
              " (('l', 's'), 94),\n",
              " (('u', 'k'), 93),\n",
              " (('<S>', 'q'), 92),\n",
              " (('d', 'u'), 92),\n",
              " (('s', 'm'), 90),\n",
              " (('r', 'k'), 90),\n",
              " (('i', 'x'), 89),\n",
              " (('v', '<E>'), 88),\n",
              " (('y', 'k'), 86),\n",
              " (('u', 'w'), 86),\n",
              " (('g', 'u'), 85),\n",
              " (('b', 'y'), 83),\n",
              " (('e', 'p'), 83),\n",
              " (('g', 'o'), 83),\n",
              " (('s', 'k'), 82),\n",
              " (('u', 't'), 82),\n",
              " (('a', 'p'), 82),\n",
              " (('e', 'f'), 82),\n",
              " (('i', 'i'), 82),\n",
              " (('r', 'v'), 80),\n",
              " (('f', '<E>'), 80),\n",
              " (('t', 'u'), 78),\n",
              " (('y', 'z'), 78),\n",
              " (('<S>', 'u'), 78),\n",
              " (('l', 't'), 77),\n",
              " (('r', 'g'), 76),\n",
              " (('c', 'r'), 76),\n",
              " (('i', 'j'), 76),\n",
              " (('w', 'y'), 73),\n",
              " (('z', 'u'), 73),\n",
              " (('l', 'v'), 72),\n",
              " (('h', 't'), 71),\n",
              " (('j', '<E>'), 71),\n",
              " (('x', 't'), 70),\n",
              " (('o', 'i'), 69),\n",
              " (('e', 'u'), 69),\n",
              " (('o', 'k'), 68),\n",
              " (('b', 'd'), 65),\n",
              " (('a', 'o'), 63),\n",
              " (('p', 'i'), 61),\n",
              " (('s', 'c'), 60),\n",
              " (('d', 'l'), 60),\n",
              " (('l', 'm'), 60),\n",
              " (('a', 'q'), 60),\n",
              " (('f', 'o'), 60),\n",
              " (('p', 'o'), 59),\n",
              " (('n', 'k'), 58),\n",
              " (('w', 'n'), 58),\n",
              " (('u', 'h'), 58),\n",
              " (('e', 'j'), 55),\n",
              " (('n', 'v'), 55),\n",
              " (('s', 'r'), 55),\n",
              " (('o', 'z'), 54),\n",
              " (('i', 'p'), 53),\n",
              " (('l', 'b'), 52),\n",
              " (('i', 'q'), 52),\n",
              " (('w', '<E>'), 51),\n",
              " (('m', 'c'), 51),\n",
              " (('s', 'p'), 51),\n",
              " (('e', 'w'), 50),\n",
              " (('k', 'u'), 50),\n",
              " (('v', 'r'), 48),\n",
              " (('u', 'g'), 47),\n",
              " (('o', 'x'), 45),\n",
              " (('u', 'z'), 45),\n",
              " (('z', 'z'), 45),\n",
              " (('j', 'h'), 45),\n",
              " (('b', 'u'), 45),\n",
              " (('o', 'g'), 44),\n",
              " (('n', 'r'), 44),\n",
              " (('f', 'f'), 44),\n",
              " (('n', 'j'), 44),\n",
              " (('z', 'h'), 43),\n",
              " (('c', 'c'), 42),\n",
              " (('r', 'b'), 41),\n",
              " (('x', 'o'), 41),\n",
              " (('b', 'h'), 41),\n",
              " (('p', 'p'), 39),\n",
              " (('x', 'l'), 39),\n",
              " (('h', 'v'), 39),\n",
              " (('b', 'b'), 38),\n",
              " (('m', 'p'), 38),\n",
              " (('x', 'x'), 38),\n",
              " (('u', 'v'), 37),\n",
              " (('x', 'e'), 36),\n",
              " (('w', 'o'), 36),\n",
              " (('c', 't'), 35),\n",
              " (('z', 'm'), 35),\n",
              " (('t', 's'), 35),\n",
              " (('m', 's'), 35),\n",
              " (('c', 'u'), 35),\n",
              " (('o', 'f'), 34),\n",
              " (('u', 'x'), 34),\n",
              " (('k', 'w'), 34),\n",
              " (('p', '<E>'), 33),\n",
              " (('g', 'l'), 32),\n",
              " (('z', 'r'), 32),\n",
              " (('d', 'n'), 31),\n",
              " (('g', 't'), 31),\n",
              " (('g', 'y'), 31),\n",
              " (('h', 's'), 31),\n",
              " (('x', 's'), 31),\n",
              " (('g', 's'), 30),\n",
              " (('x', 'y'), 30),\n",
              " (('y', 'g'), 30),\n",
              " (('d', 'm'), 30),\n",
              " (('d', 's'), 29),\n",
              " (('h', 'k'), 29),\n",
              " (('y', 'x'), 28),\n",
              " (('q', '<E>'), 28),\n",
              " (('g', 'n'), 27),\n",
              " (('y', 'b'), 27),\n",
              " (('g', 'w'), 26),\n",
              " (('n', 'h'), 26),\n",
              " (('k', 'n'), 26),\n",
              " (('g', 'g'), 25),\n",
              " (('d', 'g'), 25),\n",
              " (('l', 'c'), 25),\n",
              " (('r', 'j'), 25),\n",
              " (('w', 'u'), 25),\n",
              " (('l', 'k'), 24),\n",
              " (('m', 'd'), 24),\n",
              " (('s', 'w'), 24),\n",
              " (('s', 'n'), 24),\n",
              " (('h', 'd'), 24),\n",
              " (('w', 'h'), 23),\n",
              " (('y', 'j'), 23),\n",
              " (('y', 'y'), 23),\n",
              " (('r', 'z'), 23),\n",
              " (('d', 'w'), 23),\n",
              " (('w', 'r'), 22),\n",
              " (('t', 'n'), 22),\n",
              " (('l', 'f'), 22),\n",
              " (('y', 'h'), 22),\n",
              " (('r', 'w'), 21),\n",
              " (('s', 'b'), 21),\n",
              " (('m', 'n'), 20),\n",
              " (('f', 'l'), 20),\n",
              " (('w', 's'), 20),\n",
              " (('k', 'k'), 20),\n",
              " (('h', 'z'), 20),\n",
              " (('g', 'd'), 19),\n",
              " (('l', 'h'), 19),\n",
              " (('n', 'm'), 19),\n",
              " (('x', 'z'), 19),\n",
              " (('u', 'f'), 19),\n",
              " (('f', 't'), 18),\n",
              " (('l', 'r'), 18),\n",
              " (('p', 't'), 17),\n",
              " (('t', 'c'), 17),\n",
              " (('k', 't'), 17),\n",
              " (('d', 'v'), 17),\n",
              " (('u', 'p'), 16),\n",
              " (('p', 'l'), 16),\n",
              " (('l', 'w'), 16),\n",
              " (('p', 's'), 16),\n",
              " (('o', 'j'), 16),\n",
              " (('r', 'q'), 16),\n",
              " (('y', 'p'), 15),\n",
              " (('l', 'p'), 15),\n",
              " (('t', 'v'), 15),\n",
              " (('r', 'p'), 14),\n",
              " (('l', 'n'), 14),\n",
              " (('e', 'q'), 14),\n",
              " (('f', 'y'), 14),\n",
              " (('s', 'v'), 14),\n",
              " (('u', 'j'), 14),\n",
              " (('v', 'l'), 14),\n",
              " (('q', 'a'), 13),\n",
              " (('u', 'y'), 13),\n",
              " (('q', 'i'), 13),\n",
              " (('w', 'l'), 13),\n",
              " (('p', 'y'), 12),\n",
              " (('y', 'f'), 12),\n",
              " (('c', 'q'), 11),\n",
              " (('j', 'r'), 11),\n",
              " (('n', 'w'), 11),\n",
              " (('n', 'f'), 11),\n",
              " (('t', 'w'), 11),\n",
              " (('m', 'z'), 11),\n",
              " (('u', 'o'), 10),\n",
              " (('f', 'u'), 10),\n",
              " (('l', 'z'), 10),\n",
              " (('h', 'w'), 10),\n",
              " (('u', 'q'), 10),\n",
              " (('j', 'y'), 10),\n",
              " (('s', 'z'), 10),\n",
              " (('s', 'd'), 9),\n",
              " (('j', 'l'), 9),\n",
              " (('d', 'j'), 9),\n",
              " (('k', 'm'), 9),\n",
              " (('r', 'f'), 9),\n",
              " (('h', 'j'), 9),\n",
              " (('v', 'n'), 8),\n",
              " (('n', 'b'), 8),\n",
              " (('i', 'w'), 8),\n",
              " (('h', 'b'), 8),\n",
              " (('b', 's'), 8),\n",
              " (('w', 't'), 8),\n",
              " (('w', 'd'), 8),\n",
              " (('v', 'v'), 7),\n",
              " (('v', 'u'), 7),\n",
              " (('j', 's'), 7),\n",
              " (('m', 'j'), 7),\n",
              " (('f', 's'), 6),\n",
              " (('l', 'g'), 6),\n",
              " (('l', 'j'), 6),\n",
              " (('j', 'w'), 6),\n",
              " (('n', 'x'), 6),\n",
              " (('y', 'q'), 6),\n",
              " (('w', 'k'), 6),\n",
              " (('g', 'm'), 6),\n",
              " (('x', 'u'), 5),\n",
              " (('m', 'h'), 5),\n",
              " (('m', 'l'), 5),\n",
              " (('j', 'm'), 5),\n",
              " (('c', 's'), 5),\n",
              " (('j', 'v'), 5),\n",
              " (('n', 'p'), 5),\n",
              " (('d', 'f'), 5),\n",
              " (('x', 'd'), 5),\n",
              " (('z', 'b'), 4),\n",
              " (('f', 'n'), 4),\n",
              " (('x', 'c'), 4),\n",
              " (('m', 't'), 4),\n",
              " (('t', 'm'), 4),\n",
              " (('z', 'n'), 4),\n",
              " (('z', 't'), 4),\n",
              " (('p', 'u'), 4),\n",
              " (('c', 'z'), 4),\n",
              " (('b', 'n'), 4),\n",
              " (('z', 's'), 4),\n",
              " (('f', 'w'), 4),\n",
              " (('d', 't'), 4),\n",
              " (('j', 'd'), 4),\n",
              " (('j', 'c'), 4),\n",
              " (('y', 'w'), 4),\n",
              " (('v', 'k'), 3),\n",
              " (('x', 'w'), 3),\n",
              " (('t', 'j'), 3),\n",
              " (('c', 'j'), 3),\n",
              " (('q', 'w'), 3),\n",
              " (('g', 'b'), 3),\n",
              " (('o', 'q'), 3),\n",
              " (('r', 'x'), 3),\n",
              " (('d', 'c'), 3),\n",
              " (('g', 'j'), 3),\n",
              " (('x', 'f'), 3),\n",
              " (('z', 'w'), 3),\n",
              " (('d', 'k'), 3),\n",
              " (('u', 'u'), 3),\n",
              " (('m', 'v'), 3),\n",
              " (('c', 'x'), 3),\n",
              " (('l', 'q'), 3),\n",
              " (('p', 'b'), 2),\n",
              " (('t', 'g'), 2),\n",
              " (('q', 's'), 2),\n",
              " (('t', 'x'), 2),\n",
              " (('f', 'k'), 2),\n",
              " (('b', 't'), 2),\n",
              " (('j', 'n'), 2),\n",
              " (('k', 'c'), 2),\n",
              " (('z', 'k'), 2),\n",
              " (('s', 'j'), 2),\n",
              " (('s', 'f'), 2),\n",
              " (('z', 'j'), 2),\n",
              " (('n', 'q'), 2),\n",
              " (('f', 'z'), 2),\n",
              " (('h', 'g'), 2),\n",
              " (('w', 'w'), 2),\n",
              " (('k', 'j'), 2),\n",
              " (('j', 'k'), 2),\n",
              " (('w', 'm'), 2),\n",
              " (('z', 'c'), 2),\n",
              " (('z', 'v'), 2),\n",
              " (('w', 'f'), 2),\n",
              " (('q', 'm'), 2),\n",
              " (('k', 'z'), 2),\n",
              " (('j', 'j'), 2),\n",
              " (('z', 'p'), 2),\n",
              " (('j', 't'), 2),\n",
              " (('k', 'b'), 2),\n",
              " (('m', 'w'), 2),\n",
              " (('h', 'f'), 2),\n",
              " (('c', 'g'), 2),\n",
              " (('t', 'f'), 2),\n",
              " (('h', 'c'), 2),\n",
              " (('q', 'o'), 2),\n",
              " (('k', 'd'), 2),\n",
              " (('k', 'v'), 2),\n",
              " (('s', 'g'), 2),\n",
              " (('z', 'd'), 2),\n",
              " (('q', 'r'), 1),\n",
              " (('d', 'z'), 1),\n",
              " (('p', 'j'), 1),\n",
              " (('q', 'l'), 1),\n",
              " (('p', 'f'), 1),\n",
              " (('q', 'e'), 1),\n",
              " (('b', 'c'), 1),\n",
              " (('c', 'd'), 1),\n",
              " (('m', 'f'), 1),\n",
              " (('p', 'n'), 1),\n",
              " (('w', 'b'), 1),\n",
              " (('p', 'c'), 1),\n",
              " (('h', 'p'), 1),\n",
              " (('f', 'h'), 1),\n",
              " (('b', 'j'), 1),\n",
              " (('f', 'g'), 1),\n",
              " (('z', 'g'), 1),\n",
              " (('c', 'p'), 1),\n",
              " (('p', 'k'), 1),\n",
              " (('p', 'm'), 1),\n",
              " (('x', 'n'), 1),\n",
              " (('s', 'q'), 1),\n",
              " (('k', 'f'), 1),\n",
              " (('m', 'k'), 1),\n",
              " (('x', 'h'), 1),\n",
              " (('g', 'f'), 1),\n",
              " (('v', 'b'), 1),\n",
              " (('j', 'p'), 1),\n",
              " (('g', 'z'), 1),\n",
              " (('v', 'd'), 1),\n",
              " (('d', 'b'), 1),\n",
              " (('v', 'h'), 1),\n",
              " (('h', 'h'), 1),\n",
              " (('g', 'v'), 1),\n",
              " (('d', 'q'), 1),\n",
              " (('x', 'b'), 1),\n",
              " (('w', 'z'), 1),\n",
              " (('h', 'q'), 1),\n",
              " (('j', 'b'), 1),\n",
              " (('x', 'm'), 1),\n",
              " (('w', 'g'), 1),\n",
              " (('t', 'b'), 1),\n",
              " (('z', 'x'), 1)]"
            ]
          },
          "metadata": {},
          "execution_count": 5
        }
      ]
    },
    {
      "cell_type": "code",
      "source": [
        "len(set(\"\".join(w for w in words)))"
      ],
      "metadata": {
        "colab": {
          "base_uri": "https://localhost:8080/"
        },
        "id": "_Aq5bfS77OPX",
        "outputId": "189c9592-f01d-4dd0-8192-d3b11ccebdbb"
      },
      "execution_count": 6,
      "outputs": [
        {
          "output_type": "execute_result",
          "data": {
            "text/plain": [
              "26"
            ]
          },
          "metadata": {},
          "execution_count": 6
        }
      ]
    },
    {
      "cell_type": "code",
      "source": [
        "import torch"
      ],
      "metadata": {
        "id": "J6-bm8PG6kLm"
      },
      "execution_count": 7,
      "outputs": []
    },
    {
      "cell_type": "code",
      "source": [
        "N = torch.zeros((27, 27), dtype=torch.int32) "
      ],
      "metadata": {
        "id": "ajhBDv4B64Ne"
      },
      "execution_count": 8,
      "outputs": []
    },
    {
      "cell_type": "code",
      "source": [
        "chars = sorted(list(set(\"\".join(w for w in words))))\n",
        "\n",
        "s2i = {c: i+1 for i, c in enumerate(chars)}\n",
        "s2i[\".\"] = 0\n",
        "\n",
        "i2s = {i:s for s, i in s2i.items()}"
      ],
      "metadata": {
        "id": "oXrXuVvB882k"
      },
      "execution_count": 9,
      "outputs": []
    },
    {
      "cell_type": "code",
      "source": [
        "for w in words:\n",
        "  chs = [\".\"] + list(w) + [\".\"]\n",
        "  for ch1, ch2 in zip(chs, chs[1:]):\n",
        "    ix1 = s2i[ch1]\n",
        "    ix2 = s2i[ch2] \n",
        "    N[ix1, ix2] += 1"
      ],
      "metadata": {
        "id": "03ON0UU293fd"
      },
      "execution_count": 10,
      "outputs": []
    },
    {
      "cell_type": "code",
      "source": [
        "import matplotlib.pyplot as plt\n",
        "%matplotlib inline\n",
        "\n",
        "plt.figure(figsize=(16, 16))\n",
        "plt.imshow(N, cmap=\"rainbow\")\n",
        "for i in range(27):\n",
        "  for j in range(27):\n",
        "    chstr = i2s[i] + i2s[j]\n",
        "    plt.text(j, i, chstr, ha=\"center\", va=\"bottom\", color='gray')\n",
        "    plt.text(j, i, N[i, j].item(), ha=\"center\", va=\"top\", color='gray')\n",
        "plt.axis('off');"
      ],
      "metadata": {
        "colab": {
          "base_uri": "https://localhost:8080/",
          "height": 901
        },
        "id": "-DsM51GQ-uFl",
        "outputId": "9f735132-aec2-493c-a4dd-2ebf2d73786a"
      },
      "execution_count": 11,
      "outputs": [
        {
          "output_type": "display_data",
          "data": {
            "text/plain": [
              "<Figure size 1152x1152 with 1 Axes>"
            ],
            "image/png": "[encoded data removed]"
          },
          "metadata": {
            "needs_background": "light"
          }
        }
      ]
    },
    {
      "cell_type": "code",
      "source": [
        "N[0]"
      ],
      "metadata": {
        "colab": {
          "base_uri": "https://localhost:8080/"
        },
        "id": "-W4HdqLL-7HS",
        "outputId": "1fc337bb-38b1-434b-d470-910a2118a0b4"
      },
      "execution_count": 12,
      "outputs": [
        {
          "output_type": "execute_result",
          "data": {
            "text/plain": [
              "tensor([   0, 4410, 1306, 1542, 1690, 1531,  417,  669,  874,  591, 2422, 2963,\n",
              "        1572, 2538, 1146,  394,  515,   92, 1639, 2055, 1308,   78,  376,  307,\n",
              "         134,  535,  929], dtype=torch.int32)"
            ]
          },
          "metadata": {},
          "execution_count": 12
        }
      ]
    },
    {
      "cell_type": "code",
      "source": [
        "p = N[0].float()\n",
        "p = p / p.sum()\n",
        "p"
      ],
      "metadata": {
        "colab": {
          "base_uri": "https://localhost:8080/"
        },
        "id": "6Jaw9rKZ_hXB",
        "outputId": "21e2802a-167f-45f4-e86e-b3d5d3908813"
      },
      "execution_count": 13,
      "outputs": [
        {
          "output_type": "execute_result",
          "data": {
            "text/plain": [
              "tensor([0.0000, 0.1377, 0.0408, 0.0481, 0.0528, 0.0478, 0.0130, 0.0209, 0.0273,\n",
              "        0.0184, 0.0756, 0.0925, 0.0491, 0.0792, 0.0358, 0.0123, 0.0161, 0.0029,\n",
              "        0.0512, 0.0642, 0.0408, 0.0024, 0.0117, 0.0096, 0.0042, 0.0167, 0.0290])"
            ]
          },
          "metadata": {},
          "execution_count": 13
        }
      ]
    },
    {
      "cell_type": "code",
      "source": [
        "g = torch.Generator().manual_seed(2147483647)\n",
        "ix = torch.multinomial(p, num_samples=1, replacement=True, generator=g).item()"
      ],
      "metadata": {
        "id": "Vjai3JxIAbQz"
      },
      "execution_count": 14,
      "outputs": []
    },
    {
      "cell_type": "code",
      "source": [
        "i2s[ix]"
      ],
      "metadata": {
        "colab": {
          "base_uri": "https://localhost:8080/",
          "height": 35
        },
        "id": "NN2UvpmZEEYr",
        "outputId": "dc5b773c-9a33-4f26-8ac0-e537d517023b"
      },
      "execution_count": 15,
      "outputs": [
        {
          "output_type": "execute_result",
          "data": {
            "text/plain": [
              "'m'"
            ],
            "application/vnd.google.colaboratory.intrinsic+json": {
              "type": "string"
            }
          },
          "metadata": {},
          "execution_count": 15
        }
      ]
    },
    {
      "cell_type": "code",
      "source": [
        "g = torch.Generator().manual_seed(2147483647)\n",
        "p = torch.rand(3, generator=g)\n",
        "p = p / p.sum()\n",
        "p"
      ],
      "metadata": {
        "colab": {
          "base_uri": "https://localhost:8080/"
        },
        "id": "ucHXvRG6EE9o",
        "outputId": "4d867c3b-3fba-4487-bdd9-7b5db9e9a528"
      },
      "execution_count": 16,
      "outputs": [
        {
          "output_type": "execute_result",
          "data": {
            "text/plain": [
              "tensor([0.6064, 0.3033, 0.0903])"
            ]
          },
          "metadata": {},
          "execution_count": 16
        }
      ]
    },
    {
      "cell_type": "code",
      "source": [
        "torch.multinomial(p, num_samples=100, replacement=True, generator=g)"
      ],
      "metadata": {
        "colab": {
          "base_uri": "https://localhost:8080/"
        },
        "id": "6u7BLbmyEr0E",
        "outputId": "ddb2dbb1-a7a1-4dae-8448-d9754fbe3ee8"
      },
      "execution_count": 17,
      "outputs": [
        {
          "output_type": "execute_result",
          "data": {
            "text/plain": [
              "tensor([1, 1, 2, 0, 0, 2, 1, 1, 0, 0, 0, 1, 1, 0, 0, 1, 1, 0, 0, 1, 0, 2, 0, 0,\n",
              "        1, 0, 0, 1, 0, 0, 0, 1, 1, 1, 0, 1, 1, 0, 0, 1, 1, 1, 0, 1, 1, 0, 1, 1,\n",
              "        0, 2, 0, 0, 0, 0, 0, 0, 0, 0, 0, 0, 1, 1, 0, 0, 0, 0, 0, 0, 0, 0, 1, 0,\n",
              "        0, 1, 0, 0, 0, 0, 0, 0, 0, 1, 2, 0, 0, 0, 0, 0, 0, 1, 0, 0, 2, 0, 1, 0,\n",
              "        0, 1, 1, 1])"
            ]
          },
          "metadata": {},
          "execution_count": 17
        }
      ]
    },
    {
      "cell_type": "code",
      "source": [
        "p.shape"
      ],
      "metadata": {
        "colab": {
          "base_uri": "https://localhost:8080/"
        },
        "id": "dBT-JXHFGOh4",
        "outputId": "8bc9736d-c323-4221-95b2-ceb7bf723b0c"
      },
      "execution_count": 18,
      "outputs": [
        {
          "output_type": "execute_result",
          "data": {
            "text/plain": [
              "torch.Size([3])"
            ]
          },
          "metadata": {},
          "execution_count": 18
        }
      ]
    },
    {
      "cell_type": "code",
      "source": [
        "plt.imshow(N)"
      ],
      "metadata": {
        "colab": {
          "base_uri": "https://localhost:8080/",
          "height": 282
        },
        "id": "zA708-0ZGu-i",
        "outputId": "956d2fe1-9df9-4d2b-f3b6-de9608d44275"
      },
      "execution_count": 19,
      "outputs": [
        {
          "output_type": "execute_result",
          "data": {
            "text/plain": [
              "<matplotlib.image.AxesImage at 0x7f28c15877c0>"
            ]
          },
          "metadata": {},
          "execution_count": 19
        },
        {
          "output_type": "display_data",
          "data": {
            "text/plain": [
              "<Figure size 432x288 with 1 Axes>"
            ],
            "image/png": "[encoded data removed]"
          },
          "metadata": {
            "needs_background": "light"
          }
        }
      ]
    },
    {
      "cell_type": "code",
      "source": [
        "P = (N+1).float()\n",
        "P /= P.sum(1, keepdims=True)"
      ],
      "metadata": {
        "id": "Puv0sWLaGWWe"
      },
      "execution_count": 20,
      "outputs": []
    },
    {
      "cell_type": "code",
      "source": [
        "plt.imshow(P)"
      ],
      "metadata": {
        "colab": {
          "base_uri": "https://localhost:8080/",
          "height": 282
        },
        "id": "T4b2zeccGbjF",
        "outputId": "a448dd60-10c0-4c26-e8bc-0127e025dff4"
      },
      "execution_count": 21,
      "outputs": [
        {
          "output_type": "execute_result",
          "data": {
            "text/plain": [
              "<matplotlib.image.AxesImage at 0x7f28c0fba5b0>"
            ]
          },
          "metadata": {},
          "execution_count": 21
        },
        {
          "output_type": "display_data",
          "data": {
            "text/plain": [
              "<Figure size 432x288 with 1 Axes>"
            ],
            "image/png": "[encoded data removed]"
          },
          "metadata": {
            "needs_background": "light"
          }
        }
      ]
    },
    {
      "cell_type": "code",
      "source": [
        "g = torch.Generator().manual_seed(2147483647)\n",
        "\n",
        "for i in range(5):\n",
        "\n",
        "  out=[]\n",
        "  ix=0\n",
        "  while True:\n",
        "    p = P[ix]\n",
        "    ix = torch.multinomial(p, num_samples=1, replacement=True, generator=g).item()\n",
        "    out.append(i2s[ix])\n",
        "    if ix==0:\n",
        "      break\n",
        "\n",
        "  print(\"\".join(out))"
      ],
      "metadata": {
        "colab": {
          "base_uri": "https://localhost:8080/"
        },
        "id": "UL-SzkmQHLIM",
        "outputId": "b85b771a-3ba0-4345-ac3e-a8d90bf0c448"
      },
      "execution_count": 22,
      "outputs": [
        {
          "output_type": "stream",
          "name": "stdout",
          "text": [
            "mor.\n",
            "axx.\n",
            "minaymoryles.\n",
            "kondlaisah.\n",
            "anchshizarie.\n"
          ]
        }
      ]
    },
    {
      "cell_type": "code",
      "source": [
        "log_likelihood = 0.0\n",
        "n = 0\n",
        "\n",
        "for w in [\"edaeda\"]:\n",
        "  chs = [\".\"] + list(w) + [\".\"]\n",
        "  for ch1, ch2 in zip(chs, chs[1:]):\n",
        "    ix1 = s2i[ch1]\n",
        "    ix2 = s2i[ch2]\n",
        "    prob = P[ix1, ix2]\n",
        "    logprob = torch.log(prob)\n",
        "    log_likelihood += logprob\n",
        "    n += 1\n",
        "    print(f\"{ch1}{ch2}: {prob:.4f} | {logprob:.4f} | {log_likelihood:.4f}\")"
      ],
      "metadata": {
        "colab": {
          "base_uri": "https://localhost:8080/"
        },
        "id": "RITquz7_H6tK",
        "outputId": "770c0c19-dee2-462c-9d00-86cabd8cf469"
      },
      "execution_count": 23,
      "outputs": [
        {
          "output_type": "stream",
          "name": "stdout",
          "text": [
            ".e: 0.0478 | -3.0410 | -3.0410\n",
            "ed: 0.0188 | -3.9725 | -7.0135\n",
            "da: 0.2361 | -1.4435 | -8.4570\n",
            "ae: 0.0204 | -3.8905 | -12.3475\n",
            "ed: 0.0188 | -3.9725 | -16.3200\n",
            "da: 0.2361 | -1.4435 | -17.7635\n",
            "a.: 0.1958 | -1.6305 | -19.3940\n"
          ]
        }
      ]
    },
    {
      "cell_type": "code",
      "source": [
        "log_likelihood = 0.0\n",
        "n = 0\n",
        "\n",
        "for w in words:\n",
        "  chs = [\".\"] + list(w) + [\".\"]\n",
        "  for ch1, ch2 in zip(chs, chs[1:]):\n",
        "    ix1 = s2i[ch1] \n",
        "    ix2 = s2i[ch2]\n",
        "    prob = P[ix1, ix2]\n",
        "    logprob = torch.log(prob)\n",
        "    log_likelihood += logprob\n",
        "    n+=1\n",
        "\n",
        "print(f\"{log_likelihood=}\")\n",
        "nll = -log_likelihood\n",
        "print(f\"{nll=}\")\n",
        "print(f\"{nll/n=}\")"
      ],
      "metadata": {
        "colab": {
          "base_uri": "https://localhost:8080/"
        },
        "id": "_iVTOiYwPW6n",
        "outputId": "226af3c3-8be5-42f1-be1c-b3ffcaa31c3f"
      },
      "execution_count": 24,
      "outputs": [
        {
          "output_type": "stream",
          "name": "stdout",
          "text": [
            "log_likelihood=tensor(-559951.5625)\n",
            "nll=tensor(559951.5625)\n",
            "nll/n=tensor(2.4544)\n"
          ]
        }
      ]
    },
    {
      "cell_type": "code",
      "source": [
        "# create trainin set for bigrams\n",
        "xs, ys = [], []\n",
        "\n",
        "for w in words[:1]:\n",
        "  chs = [\".\"] + list(w) + [\".\"]\n",
        "  for ch1, ch2 in zip(chs, chs[1:]):\n",
        "    ix1 = s2i[ch1]\n",
        "    ix2 = s2i[ch2]\n",
        "    #print(ch1, ch2)\n",
        "    xs.append(ix1); ys.append(ix2);\n",
        "\n",
        "xs = torch.tensor(xs)\n",
        "ys = torch.tensor(ys)"
      ],
      "metadata": {
        "id": "ULW9W1dhQQ1D"
      },
      "execution_count": 25,
      "outputs": []
    },
    {
      "cell_type": "code",
      "source": [
        "xs.dtype, ys.dtype"
      ],
      "metadata": {
        "colab": {
          "base_uri": "https://localhost:8080/"
        },
        "id": "QThNPfj4RUbw",
        "outputId": "019d1a06-be4a-4c5a-9de7-c7c71898ded9"
      },
      "execution_count": 26,
      "outputs": [
        {
          "output_type": "execute_result",
          "data": {
            "text/plain": [
              "(torch.int64, torch.int64)"
            ]
          },
          "metadata": {},
          "execution_count": 26
        }
      ]
    },
    {
      "cell_type": "code",
      "source": [
        "xs"
      ],
      "metadata": {
        "colab": {
          "base_uri": "https://localhost:8080/"
        },
        "id": "ySwV5EsURYjG",
        "outputId": "963cd348-a497-4753-f8d1-31a7f5f139a8"
      },
      "execution_count": 27,
      "outputs": [
        {
          "output_type": "execute_result",
          "data": {
            "text/plain": [
              "tensor([ 0,  5, 13, 13,  1])"
            ]
          },
          "metadata": {},
          "execution_count": 27
        }
      ]
    },
    {
      "cell_type": "code",
      "source": [
        "ys"
      ],
      "metadata": {
        "colab": {
          "base_uri": "https://localhost:8080/"
        },
        "id": "uI8xi-NORasf",
        "outputId": "78d70db3-4425-4566-ae25-5cb35a27cec2"
      },
      "execution_count": 28,
      "outputs": [
        {
          "output_type": "execute_result",
          "data": {
            "text/plain": [
              "tensor([ 5, 13, 13,  1,  0])"
            ]
          },
          "metadata": {},
          "execution_count": 28
        }
      ]
    },
    {
      "cell_type": "code",
      "source": [
        "import torch.nn.functional as F\n",
        "\n",
        "xenc = F.one_hot(xs, num_classes=27).float()\n",
        "xenc"
      ],
      "metadata": {
        "colab": {
          "base_uri": "https://localhost:8080/"
        },
        "id": "9OWY-m_FRc7w",
        "outputId": "2a801b46-8730-4ca5-9367-6948af44992e"
      },
      "execution_count": 29,
      "outputs": [
        {
          "output_type": "execute_result",
          "data": {
            "text/plain": [
              "tensor([[1., 0., 0., 0., 0., 0., 0., 0., 0., 0., 0., 0., 0., 0., 0., 0., 0., 0.,\n",
              "         0., 0., 0., 0., 0., 0., 0., 0., 0.],\n",
              "        [0., 0., 0., 0., 0., 1., 0., 0., 0., 0., 0., 0., 0., 0., 0., 0., 0., 0.,\n",
              "         0., 0., 0., 0., 0., 0., 0., 0., 0.],\n",
              "        [0., 0., 0., 0., 0., 0., 0., 0., 0., 0., 0., 0., 0., 1., 0., 0., 0., 0.,\n",
              "         0., 0., 0., 0., 0., 0., 0., 0., 0.],\n",
              "        [0., 0., 0., 0., 0., 0., 0., 0., 0., 0., 0., 0., 0., 1., 0., 0., 0., 0.,\n",
              "         0., 0., 0., 0., 0., 0., 0., 0., 0.],\n",
              "        [0., 1., 0., 0., 0., 0., 0., 0., 0., 0., 0., 0., 0., 0., 0., 0., 0., 0.,\n",
              "         0., 0., 0., 0., 0., 0., 0., 0., 0.]])"
            ]
          },
          "metadata": {},
          "execution_count": 29
        }
      ]
    },
    {
      "cell_type": "code",
      "source": [
        "xenc.shape"
      ],
      "metadata": {
        "colab": {
          "base_uri": "https://localhost:8080/"
        },
        "id": "ZtCKFGW3RowD",
        "outputId": "da724a5e-e065-4ab8-94c0-f4bb8f48aebf"
      },
      "execution_count": 30,
      "outputs": [
        {
          "output_type": "execute_result",
          "data": {
            "text/plain": [
              "torch.Size([5, 27])"
            ]
          },
          "metadata": {},
          "execution_count": 30
        }
      ]
    },
    {
      "cell_type": "code",
      "source": [
        "plt.imshow(xenc)"
      ],
      "metadata": {
        "colab": {
          "base_uri": "https://localhost:8080/",
          "height": 127
        },
        "id": "aMk1s6tqRt-t",
        "outputId": "9f173cc3-3f27-4467-e7fc-c754a1e5b700"
      },
      "execution_count": 31,
      "outputs": [
        {
          "output_type": "execute_result",
          "data": {
            "text/plain": [
              "<matplotlib.image.AxesImage at 0x7f28c15b3b80>"
            ]
          },
          "metadata": {},
          "execution_count": 31
        },
        {
          "output_type": "display_data",
          "data": {
            "text/plain": [
              "<Figure size 432x288 with 1 Axes>"
            ],
            "image/png": "[encoded data removed]"
          },
          "metadata": {
            "needs_background": "light"
          }
        }
      ]
    },
    {
      "cell_type": "code",
      "source": [
        "xenc.dtype"
      ],
      "metadata": {
        "colab": {
          "base_uri": "https://localhost:8080/"
        },
        "id": "wEwxxseORwU5",
        "outputId": "fb8d80e7-ef23-48a1-8f83-e4c86c0dc7df"
      },
      "execution_count": 32,
      "outputs": [
        {
          "output_type": "execute_result",
          "data": {
            "text/plain": [
              "torch.float32"
            ]
          },
          "metadata": {},
          "execution_count": 32
        }
      ]
    },
    {
      "cell_type": "code",
      "source": [
        "W = torch.randn((27, 27))\n",
        "xenc @ W"
      ],
      "metadata": {
        "colab": {
          "base_uri": "https://localhost:8080/"
        },
        "id": "baH0nWg3SKep",
        "outputId": "f15c11b2-f804-41a2-829b-3c82067a7202"
      },
      "execution_count": 33,
      "outputs": [
        {
          "output_type": "execute_result",
          "data": {
            "text/plain": [
              "tensor([[ 7.2627e-01, -2.3915e-01, -6.6452e-01,  1.7962e+00, -1.5411e+00,\n",
              "         -8.5452e-01, -8.0961e-01,  1.9887e+00, -8.4242e-01,  1.5125e+00,\n",
              "         -1.2673e-01, -7.5518e-01, -1.7570e+00,  7.1724e-01, -5.1531e-01,\n",
              "         -3.6414e-01,  1.2260e+00,  3.2623e-01,  5.0055e-01,  1.0023e+00,\n",
              "          1.4731e-01, -3.1861e-04,  7.3106e-02,  6.4142e-01,  4.3499e-01,\n",
              "         -8.4583e-01,  5.6777e-01],\n",
              "        [ 1.3249e+00,  5.9771e-01,  1.0134e+00, -2.3949e+00,  1.8393e-01,\n",
              "         -6.9945e-02,  1.6883e+00, -3.6185e-01,  7.5944e-01, -1.3386e+00,\n",
              "         -3.6380e-01, -4.5371e-01,  1.2917e+00,  8.7355e-01,  1.1073e+00,\n",
              "         -1.3873e-01,  8.1984e-01,  1.0014e+00, -8.0638e-02, -3.5576e-02,\n",
              "         -5.5884e-01, -3.3413e-01, -1.7287e-01, -1.6651e+00,  6.2773e-01,\n",
              "         -4.6518e-01,  1.7117e+00],\n",
              "        [ 3.6792e-02,  1.2435e+00,  4.7685e-02, -1.2417e+00, -8.7753e-01,\n",
              "         -1.4372e+00, -1.7812e-01,  2.9895e+00, -1.2251e-01, -1.5156e+00,\n",
              "         -7.1957e-01, -7.1700e-01, -2.7621e-01, -1.8868e-01, -1.1078e+00,\n",
              "          1.3999e-01,  6.3741e-01, -6.6800e-02, -4.6128e-01, -1.4368e-01,\n",
              "          1.4189e+00, -4.8359e-01,  5.9082e-01, -1.7942e+00, -8.3330e-01,\n",
              "          9.1848e-01,  1.3461e-01],\n",
              "        [ 3.6792e-02,  1.2435e+00,  4.7685e-02, -1.2417e+00, -8.7753e-01,\n",
              "         -1.4372e+00, -1.7812e-01,  2.9895e+00, -1.2251e-01, -1.5156e+00,\n",
              "         -7.1957e-01, -7.1700e-01, -2.7621e-01, -1.8868e-01, -1.1078e+00,\n",
              "          1.3999e-01,  6.3741e-01, -6.6800e-02, -4.6128e-01, -1.4368e-01,\n",
              "          1.4189e+00, -4.8359e-01,  5.9082e-01, -1.7942e+00, -8.3330e-01,\n",
              "          9.1848e-01,  1.3461e-01],\n",
              "        [-6.6999e-01,  1.1019e+00, -3.4639e-01,  1.9163e-01,  1.0244e+00,\n",
              "         -2.2287e-01, -7.8116e-01, -1.1094e+00, -1.9907e+00,  1.4391e+00,\n",
              "          1.6628e-01,  2.1283e+00, -1.9476e+00,  5.8344e-01, -1.6180e-01,\n",
              "         -3.9323e-01, -7.1570e-01, -3.9556e-01,  7.8536e-01,  5.3196e-01,\n",
              "          4.2239e-01,  6.3894e-01,  1.4653e+00, -3.0796e-01, -3.2427e-01,\n",
              "          3.1536e-01,  1.3507e+00]])"
            ]
          },
          "metadata": {},
          "execution_count": 33
        }
      ]
    },
    {
      "cell_type": "code",
      "source": [
        "logits = xenc @ W\n",
        "counts = logits.exp()\n",
        "probs = counts / counts.sum(axis=1, keepdims=True)\n",
        "probs"
      ],
      "metadata": {
        "colab": {
          "base_uri": "https://localhost:8080/"
        },
        "id": "RkXW6V0NSQX-",
        "outputId": "6001a650-f296-46b3-d552-126cb87c0b3c"
      },
      "execution_count": 34,
      "outputs": [
        {
          "output_type": "execute_result",
          "data": {
            "text/plain": [
              "tensor([[0.0453, 0.0172, 0.0113, 0.1320, 0.0047, 0.0093, 0.0097, 0.1600, 0.0094,\n",
              "         0.0994, 0.0193, 0.0103, 0.0038, 0.0449, 0.0131, 0.0152, 0.0746, 0.0303,\n",
              "         0.0361, 0.0597, 0.0254, 0.0219, 0.0236, 0.0416, 0.0338, 0.0094, 0.0386],\n",
              "        [0.0791, 0.0382, 0.0579, 0.0019, 0.0253, 0.0196, 0.1137, 0.0146, 0.0449,\n",
              "         0.0055, 0.0146, 0.0134, 0.0765, 0.0504, 0.0636, 0.0183, 0.0477, 0.0572,\n",
              "         0.0194, 0.0203, 0.0120, 0.0151, 0.0177, 0.0040, 0.0394, 0.0132, 0.1164],\n",
              "        [0.0218, 0.0730, 0.0221, 0.0061, 0.0088, 0.0050, 0.0176, 0.4186, 0.0186,\n",
              "         0.0046, 0.0103, 0.0103, 0.0160, 0.0174, 0.0070, 0.0242, 0.0398, 0.0197,\n",
              "         0.0133, 0.0182, 0.0870, 0.0130, 0.0380, 0.0035, 0.0092, 0.0528, 0.0241],\n",
              "        [0.0218, 0.0730, 0.0221, 0.0061, 0.0088, 0.0050, 0.0176, 0.4186, 0.0186,\n",
              "         0.0046, 0.0103, 0.0103, 0.0160, 0.0174, 0.0070, 0.0242, 0.0398, 0.0197,\n",
              "         0.0133, 0.0182, 0.0870, 0.0130, 0.0380, 0.0035, 0.0092, 0.0528, 0.0241],\n",
              "        [0.0110, 0.0644, 0.0151, 0.0259, 0.0596, 0.0171, 0.0098, 0.0071, 0.0029,\n",
              "         0.0903, 0.0253, 0.1799, 0.0031, 0.0384, 0.0182, 0.0145, 0.0105, 0.0144,\n",
              "         0.0470, 0.0364, 0.0327, 0.0406, 0.0927, 0.0157, 0.0155, 0.0293, 0.0826]])"
            ]
          },
          "metadata": {},
          "execution_count": 34
        }
      ]
    },
    {
      "cell_type": "code",
      "source": [
        "probs[0]"
      ],
      "metadata": {
        "colab": {
          "base_uri": "https://localhost:8080/"
        },
        "id": "atP0b-zySpYJ",
        "outputId": "2ccda817-79d8-4f74-96a7-a4e9c5c0e326"
      },
      "execution_count": 35,
      "outputs": [
        {
          "output_type": "execute_result",
          "data": {
            "text/plain": [
              "tensor([0.0453, 0.0172, 0.0113, 0.1320, 0.0047, 0.0093, 0.0097, 0.1600, 0.0094,\n",
              "        0.0994, 0.0193, 0.0103, 0.0038, 0.0449, 0.0131, 0.0152, 0.0746, 0.0303,\n",
              "        0.0361, 0.0597, 0.0254, 0.0219, 0.0236, 0.0416, 0.0338, 0.0094, 0.0386])"
            ]
          },
          "metadata": {},
          "execution_count": 35
        }
      ]
    },
    {
      "cell_type": "code",
      "source": [
        "probs[0].sum()"
      ],
      "metadata": {
        "colab": {
          "base_uri": "https://localhost:8080/"
        },
        "id": "jSu37TGKVTaF",
        "outputId": "f730f5f5-9b1d-437a-cfcc-b7c33ddf2098"
      },
      "execution_count": 36,
      "outputs": [
        {
          "output_type": "execute_result",
          "data": {
            "text/plain": [
              "tensor(1.0000)"
            ]
          },
          "metadata": {},
          "execution_count": 36
        }
      ]
    },
    {
      "cell_type": "code",
      "source": [
        "nlls = torch.zeros(5)\n",
        "for i in range(5):\n",
        "  # i-th bigram\n",
        "  x = xs[i].item()\n",
        "  y = ys[i].item()\n",
        "  print(\"------\")\n",
        "  print(f\"bigram example {i+1}: {i2s[x]}{i2s[y]} (indexes {x},{y})\")\n",
        "  print(\"input to the nn: \", x)\n",
        "  print(\"output probabilities: \", probs[i])\n",
        "  print(\"label(actual next char): \", y)\n",
        "  p = probs[i, y]\n",
        "  print(\"prob: \", p.item())\n",
        "  logp = torch.log(p)\n",
        "  print(\"log likelihood \", logp)\n",
        "  nll = -logp\n",
        "  print(\"neg ll \", nll)"
      ],
      "metadata": {
        "colab": {
          "base_uri": "https://localhost:8080/"
        },
        "id": "akE5QqV5VWZb",
        "outputId": "bb28149f-c4be-4938-e389-47266124cbd1"
      },
      "execution_count": 37,
      "outputs": [
        {
          "output_type": "stream",
          "name": "stdout",
          "text": [
            "------\n",
            "bigram example 1: .e (indexes 0,5)\n",
            "input to the nn:  0\n",
            "output probabilities:  tensor([0.0453, 0.0172, 0.0113, 0.1320, 0.0047, 0.0093, 0.0097, 0.1600, 0.0094,\n",
            "        0.0994, 0.0193, 0.0103, 0.0038, 0.0449, 0.0131, 0.0152, 0.0746, 0.0303,\n",
            "        0.0361, 0.0597, 0.0254, 0.0219, 0.0236, 0.0416, 0.0338, 0.0094, 0.0386])\n",
            "label(actual next char):  5\n",
            "prob:  0.009318850003182888\n",
            "log likelihood  tensor(-4.6757)\n",
            "neg ll  tensor(4.6757)\n",
            "------\n",
            "bigram example 2: em (indexes 5,13)\n",
            "input to the nn:  5\n",
            "output probabilities:  tensor([0.0791, 0.0382, 0.0579, 0.0019, 0.0253, 0.0196, 0.1137, 0.0146, 0.0449,\n",
            "        0.0055, 0.0146, 0.0134, 0.0765, 0.0504, 0.0636, 0.0183, 0.0477, 0.0572,\n",
            "        0.0194, 0.0203, 0.0120, 0.0151, 0.0177, 0.0040, 0.0394, 0.0132, 0.1164])\n",
            "label(actual next char):  13\n",
            "prob:  0.05036010965704918\n",
            "log likelihood  tensor(-2.9886)\n",
            "neg ll  tensor(2.9886)\n",
            "------\n",
            "bigram example 3: mm (indexes 13,13)\n",
            "input to the nn:  13\n",
            "output probabilities:  tensor([0.0218, 0.0730, 0.0221, 0.0061, 0.0088, 0.0050, 0.0176, 0.4186, 0.0186,\n",
            "        0.0046, 0.0103, 0.0103, 0.0160, 0.0174, 0.0070, 0.0242, 0.0398, 0.0197,\n",
            "        0.0133, 0.0182, 0.0870, 0.0130, 0.0380, 0.0035, 0.0092, 0.0528, 0.0241])\n",
            "label(actual next char):  13\n",
            "prob:  0.01743868738412857\n",
            "log likelihood  tensor(-4.0491)\n",
            "neg ll  tensor(4.0491)\n",
            "------\n",
            "bigram example 4: ma (indexes 13,1)\n",
            "input to the nn:  13\n",
            "output probabilities:  tensor([0.0218, 0.0730, 0.0221, 0.0061, 0.0088, 0.0050, 0.0176, 0.4186, 0.0186,\n",
            "        0.0046, 0.0103, 0.0103, 0.0160, 0.0174, 0.0070, 0.0242, 0.0398, 0.0197,\n",
            "        0.0133, 0.0182, 0.0870, 0.0130, 0.0380, 0.0035, 0.0092, 0.0528, 0.0241])\n",
            "label(actual next char):  1\n",
            "prob:  0.073028065264225\n",
            "log likelihood  tensor(-2.6169)\n",
            "neg ll  tensor(2.6169)\n",
            "------\n",
            "bigram example 5: a. (indexes 1,0)\n",
            "input to the nn:  1\n",
            "output probabilities:  tensor([0.0110, 0.0644, 0.0151, 0.0259, 0.0596, 0.0171, 0.0098, 0.0071, 0.0029,\n",
            "        0.0903, 0.0253, 0.1799, 0.0031, 0.0384, 0.0182, 0.0145, 0.0105, 0.0144,\n",
            "        0.0470, 0.0364, 0.0327, 0.0406, 0.0927, 0.0157, 0.0155, 0.0293, 0.0826])\n",
            "label(actual next char):  0\n",
            "prob:  0.010956553742289543\n",
            "log likelihood  tensor(-4.5138)\n",
            "neg ll  tensor(4.5138)\n"
          ]
        }
      ]
    },
    {
      "cell_type": "code",
      "source": [
        "# random initialization\n",
        "g = torch.Generator().manual_seed(42)\n",
        "W = torch.randn((27, 27), generator=g, requires_grad=True)"
      ],
      "metadata": {
        "id": "dhAJI7YSXmau"
      },
      "execution_count": 38,
      "outputs": []
    },
    {
      "cell_type": "code",
      "source": [
        "# forward pass\n",
        "xenc = F.one_hot(xs, num_classes=27).float()\n",
        "logits = xenc @ W\n",
        "counts = logits.exp()\n",
        "probs = counts / counts.sum(1, keepdims=True)\n",
        "loss = -probs[torch.arange(5), ys].log().mean()"
      ],
      "metadata": {
        "id": "VV6a6wvQYY0N"
      },
      "execution_count": 39,
      "outputs": []
    },
    {
      "cell_type": "code",
      "source": [
        "loss"
      ],
      "metadata": {
        "colab": {
          "base_uri": "https://localhost:8080/"
        },
        "id": "WjMc4DocZNeU",
        "outputId": "2e10c1c6-6ab1-4783-d01f-c621c0158348"
      },
      "execution_count": 40,
      "outputs": [
        {
          "output_type": "execute_result",
          "data": {
            "text/plain": [
              "tensor(4.3721, grad_fn=<NegBackward0>)"
            ]
          },
          "metadata": {},
          "execution_count": 40
        }
      ]
    },
    {
      "cell_type": "code",
      "source": [
        "# backward pass\n",
        "W.grad = None # reset grad\n",
        "loss.backward()"
      ],
      "metadata": {
        "id": "xHg5OhtvZYuy"
      },
      "execution_count": 41,
      "outputs": []
    },
    {
      "cell_type": "code",
      "source": [
        "W.data -= 50 * W.grad"
      ],
      "metadata": {
        "id": "wNSSaPSuZg4x"
      },
      "execution_count": 42,
      "outputs": []
    },
    {
      "cell_type": "code",
      "source": [
        "##########################\n",
        "\n",
        "xs, ys = [], []\n",
        "for w in words:\n",
        "  chs = [\".\"] + list(w) + [\".\"]\n",
        "  for ch1, ch2 in zip(chs, chs[1:]):\n",
        "    ix1 = s2i[ch1] \n",
        "    ix2 = s2i[ch2]\n",
        "    xs.append(ix1)\n",
        "    ys.append(ix2)\n",
        "\n",
        "xs = torch.tensor(xs)\n",
        "ys = torch.tensor(ys)\n",
        "num = xs.nelement()\n",
        "print(\"num examples:\", num)"
      ],
      "metadata": {
        "colab": {
          "base_uri": "https://localhost:8080/"
        },
        "id": "7XCEJNzYZtF_",
        "outputId": "01bab0fb-966c-470d-f1fd-a44fd165deb8"
      },
      "execution_count": 43,
      "outputs": [
        {
          "output_type": "stream",
          "name": "stdout",
          "text": [
            "num examples: 228146\n"
          ]
        }
      ]
    },
    {
      "cell_type": "code",
      "source": [
        "# initialize the net\n",
        "g = torch.Generator().manual_seed(42)\n",
        "W = torch.randn((27, 27), generator=g, requires_grad=True)"
      ],
      "metadata": {
        "id": "8DLb5o00ZvsQ"
      },
      "execution_count": 44,
      "outputs": []
    },
    {
      "cell_type": "code",
      "source": [
        "# gradient descent\n",
        "for k in range(5):\n",
        "\n",
        "  # forward pass\n",
        "  xenc = F.one_hot(xs, num_classes=27).float()\n",
        "  logits = xenc @ W\n",
        "  # softmax\n",
        "  counts = logits.exp()\n",
        "  probs = counts / counts.sum(1, keepdims=True)\n",
        "  # cross entropy loss + l2 regularization \n",
        "  loss = -probs[torch.arange(num), ys].log().mean() + 0.01*(W**2).mean()\n",
        "  print(loss.item())\n",
        "\n",
        "  # backward pass\n",
        "  W.grad = None\n",
        "  loss.backward()\n",
        "\n",
        "  # update\n",
        "  W.data += -50 * W.grad"
      ],
      "metadata": {
        "colab": {
          "base_uri": "https://localhost:8080/"
        },
        "id": "z5uJ717aZvvs",
        "outputId": "5cbefb56-5291-462e-814b-b7ed392de8e4"
      },
      "execution_count": 45,
      "outputs": [
        {
          "output_type": "stream",
          "name": "stdout",
          "text": [
            "3.706477165222168\n",
            "3.373866081237793\n",
            "3.1580393314361572\n",
            "3.015209197998047\n",
            "2.9186456203460693\n"
          ]
        }
      ]
    },
    {
      "cell_type": "code",
      "source": [
        "# sample from the neural net\n",
        "g = torch.Generator().manual_seed(42)\n",
        "\n",
        "for i in range(5):\n",
        "  out = []\n",
        "  ix = 0\n",
        "  while True:\n",
        "    xenc = F.one_hot(torch.tensor([ix]), num_classes=27).float()\n",
        "    logits = xenc @ W\n",
        "    counts = logits.exp()\n",
        "    probs = counts / counts.sum(1, keepdims=True)\n",
        "\n",
        "    ix = torch.multinomial(probs, num_samples=1, replacement=True, generator=g).item()\n",
        "    out.append(i2s[ix])\n",
        "    if ix == 0:\n",
        "      break\n",
        "  print(\"\".join(out))"
      ],
      "metadata": {
        "colab": {
          "base_uri": "https://localhost:8080/"
        },
        "id": "RBX3BukCc_O5",
        "outputId": "d51ef96c-9216-430f-9a76-562a8fef8bb2"
      },
      "execution_count": 46,
      "outputs": [
        {
          "output_type": "stream",
          "name": "stdout",
          "text": [
            "a.\n",
            "a.\n",
            "liyz.\n",
            "a.\n",
            "ituhi.\n"
          ]
        }
      ]
    },
    {
      "cell_type": "markdown",
      "source": [
        "## Tri-gram"
      ],
      "metadata": {
        "id": "enKEX2disZLa"
      }
    },
    {
      "cell_type": "code",
      "source": [
        "xs1, xs2, ys = [], [], []\n",
        "for w in words:\n",
        "  chs = [\".\"] + list(w) + [\".\"]\n",
        "  for ch1, ch2, ch3 in zip(chs, chs[1:], chs[2:]):\n",
        "    ix1 = s2i[ch1] \n",
        "    ix2 = s2i[ch2]\n",
        "    ix3 = s2i[ch3]\n",
        "\n",
        "    xs1.append(ix1)\n",
        "    xs2.append(ix2)\n",
        "    ys.append(ix3)\n",
        "  \n",
        "xs1 = torch.tensor(xs1)\n",
        "xs2 = torch.tensor(xs2)\n",
        "xs = torch.vstack((xs1, xs2)).permute(1, 0)\n",
        "ys = torch.tensor(ys)\n",
        "\n",
        "# initialize the net\n",
        "g = torch.Generator().manual_seed(42)\n",
        "W = torch.randn((27*2, 27), generator=g, requires_grad=True)\n",
        "\n",
        "\n",
        "# gradient descent\n",
        "for k in range(150):\n",
        "\n",
        "  # forward pass\n",
        "  xenc = F.one_hot(xs, num_classes=27).view(len(xs), -1).float()\n",
        "  #print(xenc.shape, W.shape)\n",
        "  logits = xenc @ W\n",
        "  # softmax\n",
        "  counts = logits.exp()\n",
        "  probs = counts / counts.sum(1, keepdims=True)\n",
        "  # cross entropy loss + l2 regularization \n",
        "  loss = -probs[torch.arange(len(xs)), ys].log().mean()\n",
        "  print(f'Epoch {k} Loss {loss}')\n",
        "\n",
        "  # backward pass\n",
        "  W.grad = None\n",
        "  loss.backward()\n",
        "\n",
        "  # update\n",
        "  W.data += -100 * W.grad"
      ],
      "metadata": {
        "colab": {
          "base_uri": "https://localhost:8080/"
        },
        "id": "xcPFCYWvTSVw",
        "outputId": "7ba186d8-1c63-4efb-bbd1-b229c98ed589"
      },
      "execution_count": 47,
      "outputs": [
        {
          "output_type": "stream",
          "name": "stdout",
          "text": [
            "Epoch 0 Loss 4.2108659744262695\n",
            "Epoch 1 Loss 3.24078369140625\n",
            "Epoch 2 Loss 3.2603557109832764\n",
            "Epoch 3 Loss 2.808056354522705\n",
            "Epoch 4 Loss 2.7911832332611084\n",
            "Epoch 5 Loss 2.630260944366455\n",
            "Epoch 6 Loss 2.819789409637451\n",
            "Epoch 7 Loss 2.8253841400146484\n",
            "Epoch 8 Loss 2.6527950763702393\n",
            "Epoch 9 Loss 2.5666706562042236\n",
            "Epoch 10 Loss 2.798356771469116\n",
            "Epoch 11 Loss 2.7651443481445312\n",
            "Epoch 12 Loss 2.5662684440612793\n",
            "Epoch 13 Loss 2.5332696437835693\n",
            "Epoch 14 Loss 2.7285046577453613\n",
            "Epoch 15 Loss 2.5486767292022705\n",
            "Epoch 16 Loss 2.5381932258605957\n",
            "Epoch 17 Loss 2.7305307388305664\n",
            "Epoch 18 Loss 2.63978910446167\n",
            "Epoch 19 Loss 2.4350292682647705\n",
            "Epoch 20 Loss 2.5236918926239014\n",
            "Epoch 21 Loss 2.6794991493225098\n",
            "Epoch 22 Loss 2.7200891971588135\n",
            "Epoch 23 Loss 2.560387134552002\n",
            "Epoch 24 Loss 2.4793100357055664\n",
            "Epoch 25 Loss 2.6954994201660156\n",
            "Epoch 26 Loss 2.6866729259490967\n",
            "Epoch 27 Loss 2.46026611328125\n",
            "Epoch 28 Loss 2.517101526260376\n",
            "Epoch 29 Loss 2.7491934299468994\n",
            "Epoch 30 Loss 2.713897943496704\n",
            "Epoch 31 Loss 2.417948007583618\n",
            "Epoch 32 Loss 2.363759756088257\n",
            "Epoch 33 Loss 2.4084315299987793\n",
            "Epoch 34 Loss 2.5955989360809326\n",
            "Epoch 35 Loss 2.518378973007202\n",
            "Epoch 36 Loss 2.6029276847839355\n",
            "Epoch 37 Loss 2.70802903175354\n",
            "Epoch 38 Loss 2.5718438625335693\n",
            "Epoch 39 Loss 2.4181807041168213\n",
            "Epoch 40 Loss 2.620634078979492\n",
            "Epoch 41 Loss 2.722083330154419\n",
            "Epoch 42 Loss 2.519468307495117\n",
            "Epoch 43 Loss 2.4117515087127686\n",
            "Epoch 44 Loss 2.6401572227478027\n",
            "Epoch 45 Loss 2.7133066654205322\n",
            "Epoch 46 Loss 2.4923014640808105\n",
            "Epoch 47 Loss 2.377917766571045\n",
            "Epoch 48 Loss 2.532336473464966\n",
            "Epoch 49 Loss 2.7494935989379883\n",
            "Epoch 50 Loss 2.6610794067382812\n",
            "Epoch 51 Loss 2.365251064300537\n",
            "Epoch 52 Loss 2.417994260787964\n",
            "Epoch 53 Loss 2.629286527633667\n",
            "Epoch 54 Loss 2.5938611030578613\n",
            "Epoch 55 Loss 2.515277147293091\n",
            "Epoch 56 Loss 2.588914632797241\n",
            "Epoch 57 Loss 2.661369562149048\n",
            "Epoch 58 Loss 2.554274797439575\n",
            "Epoch 59 Loss 2.422914743423462\n",
            "Epoch 60 Loss 2.6051230430603027\n",
            "Epoch 61 Loss 2.6600778102874756\n",
            "Epoch 62 Loss 2.514786958694458\n",
            "Epoch 63 Loss 2.4603054523468018\n",
            "Epoch 64 Loss 2.639308452606201\n",
            "Epoch 65 Loss 2.6639044284820557\n",
            "Epoch 66 Loss 2.4819607734680176\n",
            "Epoch 67 Loss 2.3658299446105957\n",
            "Epoch 68 Loss 2.544677734375\n",
            "Epoch 69 Loss 2.7018051147460938\n",
            "Epoch 70 Loss 2.5788068771362305\n",
            "Epoch 71 Loss 2.409362554550171\n",
            "Epoch 72 Loss 2.604876756668091\n",
            "Epoch 73 Loss 2.730238199234009\n",
            "Epoch 74 Loss 2.5362839698791504\n",
            "Epoch 75 Loss 2.373156785964966\n",
            "Epoch 76 Loss 2.5724127292633057\n",
            "Epoch 77 Loss 2.663773775100708\n",
            "Epoch 78 Loss 2.5296623706817627\n",
            "Epoch 79 Loss 2.452286720275879\n",
            "Epoch 80 Loss 2.488337755203247\n",
            "Epoch 81 Loss 2.693944215774536\n",
            "Epoch 82 Loss 2.690443992614746\n",
            "Epoch 83 Loss 2.4180121421813965\n",
            "Epoch 84 Loss 2.46913743019104\n",
            "Epoch 85 Loss 2.7193682193756104\n",
            "Epoch 86 Loss 2.6871731281280518\n",
            "Epoch 87 Loss 2.389824151992798\n",
            "Epoch 88 Loss 2.3565711975097656\n",
            "Epoch 89 Loss 2.4740982055664062\n",
            "Epoch 90 Loss 2.764460325241089\n",
            "Epoch 91 Loss 2.646655559539795\n",
            "Epoch 92 Loss 2.359954833984375\n",
            "Epoch 93 Loss 2.430908203125\n",
            "Epoch 94 Loss 2.707171678543091\n",
            "Epoch 95 Loss 2.6051125526428223\n",
            "Epoch 96 Loss 2.386082649230957\n",
            "Epoch 97 Loss 2.5050547122955322\n",
            "Epoch 98 Loss 2.7897276878356934\n",
            "Epoch 99 Loss 2.627700090408325\n",
            "Epoch 100 Loss 2.3430094718933105\n",
            "Epoch 101 Loss 2.3962745666503906\n",
            "Epoch 102 Loss 2.5647130012512207\n",
            "Epoch 103 Loss 2.600405216217041\n",
            "Epoch 104 Loss 2.535065174102783\n",
            "Epoch 105 Loss 2.4981119632720947\n",
            "Epoch 106 Loss 2.604886054992676\n",
            "Epoch 107 Loss 2.594907283782959\n",
            "Epoch 108 Loss 2.4889001846313477\n",
            "Epoch 109 Loss 2.465930938720703\n",
            "Epoch 110 Loss 2.6042959690093994\n",
            "Epoch 111 Loss 2.602761745452881\n",
            "Epoch 112 Loss 2.5406103134155273\n",
            "Epoch 113 Loss 2.5266880989074707\n",
            "Epoch 114 Loss 2.6030006408691406\n",
            "Epoch 115 Loss 2.563441038131714\n",
            "Epoch 116 Loss 2.3683786392211914\n",
            "Epoch 117 Loss 2.454760789871216\n",
            "Epoch 118 Loss 2.7273733615875244\n",
            "Epoch 119 Loss 2.5879900455474854\n",
            "Epoch 120 Loss 2.3662304878234863\n",
            "Epoch 121 Loss 2.476105213165283\n",
            "Epoch 122 Loss 2.5499820709228516\n",
            "Epoch 123 Loss 2.5706284046173096\n",
            "Epoch 124 Loss 2.4977645874023438\n",
            "Epoch 125 Loss 2.4951493740081787\n",
            "Epoch 126 Loss 2.6598191261291504\n",
            "Epoch 127 Loss 2.6079485416412354\n",
            "Epoch 128 Loss 2.5099520683288574\n",
            "Epoch 129 Loss 2.482555866241455\n",
            "Epoch 130 Loss 2.586672067642212\n",
            "Epoch 131 Loss 2.580598831176758\n",
            "Epoch 132 Loss 2.48990797996521\n",
            "Epoch 133 Loss 2.4919686317443848\n",
            "Epoch 134 Loss 2.633441925048828\n",
            "Epoch 135 Loss 2.616830825805664\n",
            "Epoch 136 Loss 2.528844118118286\n",
            "Epoch 137 Loss 2.488410711288452\n",
            "Epoch 138 Loss 2.5636162757873535\n",
            "Epoch 139 Loss 2.5419435501098633\n",
            "Epoch 140 Loss 2.374412775039673\n",
            "Epoch 141 Loss 2.4855027198791504\n",
            "Epoch 142 Loss 2.7822937965393066\n",
            "Epoch 143 Loss 2.6196482181549072\n",
            "Epoch 144 Loss 2.3422350883483887\n",
            "Epoch 145 Loss 2.403857946395874\n",
            "Epoch 146 Loss 2.5796589851379395\n",
            "Epoch 147 Loss 2.6053154468536377\n",
            "Epoch 148 Loss 2.537919044494629\n",
            "Epoch 149 Loss 2.488978147506714\n"
          ]
        }
      ]
    },
    {
      "cell_type": "code",
      "source": [
        "# sample from the neural net\n",
        "g = torch.Generator().manual_seed(42)\n",
        "\n",
        "for i in range(5):\n",
        "  out = []\n",
        "  ix = 0\n",
        "  while True:\n",
        "    xenc = F.one_hot(torch.tensor([ix]), num_classes=54).float()\n",
        "    logits = xenc @ W\n",
        "    counts = logits.exp()\n",
        "    probs = counts / counts.sum(1, keepdims=True)\n",
        "    ix = torch.multinomial(probs, num_samples=1, replacement=True, generator=g).item()\n",
        "    out.append(i2s[ix])\n",
        "    if ix == 0:\n",
        "      break\n",
        "  print(\"\".join(out))"
      ],
      "metadata": {
        "colab": {
          "base_uri": "https://localhost:8080/"
        },
        "id": "uxeGmdoqp0gh",
        "outputId": "b2650ffe-3bd3-47cf-a4fd-b2da9a6c86c7"
      },
      "execution_count": 48,
      "outputs": [
        {
          "output_type": "stream",
          "name": "stdout",
          "text": [
            "abaaliyu.\n",
            "adistfo.\n",
            "anfaode.\n",
            "awbecegbfolw.\n",
            "aivaidyrg.\n"
          ]
        }
      ]
    },
    {
      "cell_type": "code",
      "source": [],
      "metadata": {
        "id": "YE45Pasqqeyb"
      },
      "execution_count": null,
      "outputs": []
    }
  ]
}